{
  "nbformat": 4,
  "nbformat_minor": 0,
  "metadata": {
    "colab": {
      "name": "Consumer Complaint - Finance.ipynb",
      "provenance": [],
      "authorship_tag": "ABX9TyN50Ed63vKPkUEwxVFr6Y9L",
      "include_colab_link": true
    },
    "kernelspec": {
      "name": "python3",
      "display_name": "Python 3"
    },
    "language_info": {
      "name": "python"
    }
  },
  "cells": [
    {
      "cell_type": "markdown",
      "metadata": {
        "id": "view-in-github",
        "colab_type": "text"
      },
      "source": [
        "<a href=\"https://colab.research.google.com/github/jayuan101/Consumer-Complaint-Finance/blob/main/Consumer_Complaint_Finance.ipynb\" target=\"_parent\"><img src=\"https://colab.research.google.com/assets/colab-badge.svg\" alt=\"Open In Colab\"/></a>"
      ]
    },
    {
      "cell_type": "code",
      "execution_count": null,
      "metadata": {
        "id": "jW6EnZhTaY9L"
      },
      "outputs": [],
      "source": [
        "from pandas import read_csv\n",
        "from pandas.plotting import scatter_matrix\n",
        "from matplotlib import pyplot\n",
        "import matplotlib.pyplot as plt\n",
        "from sklearn.model_selection import train_test_split\n",
        "from sklearn.model_selection import cross_val_score\n",
        "from sklearn.model_selection import StratifiedKFold\n",
        "from sklearn.metrics import classification_report\n",
        "from sklearn.metrics import confusion_matrix\n",
        "from sklearn.metrics import accuracy_score\n",
        "from sklearn.linear_model import LogisticRegression\n",
        "from sklearn.tree import DecisionTreeClassifier\n",
        "from sklearn.neighbors import KNeighborsClassifier\n",
        "from sklearn.discriminant_analysis import LinearDiscriminantAnalysis\n",
        "from sklearn.naive_bayes import GaussianNB\n",
        "from sklearn.svm import SVC\n",
        "import os\n",
        "import pandas as pd\n",
        "import seaborn as sns"
      ]
    },
    {
      "cell_type": "code",
      "source": [
        "for dirname, _, filenames in os.walk('/content/database.sqlite'):\n",
        "    for filename in filenames:\n",
        "        print(os.path.join(dirname, filename))"
      ],
      "metadata": {
        "id": "Xivt-6R5eOe6"
      },
      "execution_count": null,
      "outputs": []
    },
    {
      "cell_type": "code",
      "source": [
        "df = pd.read_csv('/content/consumer_complaints.csv')\n",
        "print(df.info())\n",
        "data = df[df['consumer_complaint_narrative'].isnull()==False]\n",
        "\n",
        "product_distribution = data.groupby('product').count().reset_index()\n",
        "plt.rcParams.update({'font.size':8})\n",
        "sns.barplot(x=product_distribution['consumer_complaint_narrative'], y=product_distribution['product'])\n",
        "plt.xlabel('Count Consumer Complaint Narrative')\n",
        "plt.ylabel('Product')"
      ],
      "metadata": {
        "id": "AvIEIOwbb9Ck",
        "colab": {
          "base_uri": "https://localhost:8080/",
          "height": 800
        },
        "outputId": "c882897a-004c-4209-8aa3-cbf0347e2fb9"
      },
      "execution_count": null,
      "outputs": [
        {
          "output_type": "stream",
          "name": "stderr",
          "text": [
            "/usr/local/lib/python3.7/dist-packages/IPython/core/interactiveshell.py:2882: DtypeWarning: Columns (5,11) have mixed types.Specify dtype option on import or set low_memory=False.\n",
            "  exec(code_obj, self.user_global_ns, self.user_ns)\n"
          ]
        },
        {
          "output_type": "stream",
          "name": "stdout",
          "text": [
            "<class 'pandas.core.frame.DataFrame'>\n",
            "RangeIndex: 555957 entries, 0 to 555956\n",
            "Data columns (total 18 columns):\n",
            " #   Column                        Non-Null Count   Dtype \n",
            "---  ------                        --------------   ----- \n",
            " 0   date_received                 555957 non-null  object\n",
            " 1   product                       555957 non-null  object\n",
            " 2   sub_product                   397635 non-null  object\n",
            " 3   issue                         555957 non-null  object\n",
            " 4   sub_issue                     212622 non-null  object\n",
            " 5   consumer_complaint_narrative  66806 non-null   object\n",
            " 6   company_public_response       85124 non-null   object\n",
            " 7   company                       555957 non-null  object\n",
            " 8   state                         551070 non-null  object\n",
            " 9   zipcode                       551452 non-null  object\n",
            " 10  tags                          77959 non-null   object\n",
            " 11  consumer_consent_provided     123458 non-null  object\n",
            " 12  submitted_via                 555957 non-null  object\n",
            " 13  date_sent_to_company          555957 non-null  object\n",
            " 14  company_response_to_consumer  555957 non-null  object\n",
            " 15  timely_response               555957 non-null  object\n",
            " 16  consumer_disputed?            555957 non-null  object\n",
            " 17  complaint_id                  555957 non-null  int64 \n",
            "dtypes: int64(1), object(17)\n",
            "memory usage: 76.3+ MB\n",
            "None\n"
          ]
        },
        {
          "output_type": "execute_result",
          "data": {
            "text/plain": [
              "Text(0, 0.5, 'Product')"
            ]
          },
          "metadata": {},
          "execution_count": 29
        },
        {
          "output_type": "display_data",
          "data": {
            "text/plain": [
              "<Figure size 432x288 with 1 Axes>"
            ],
            "image/png": "[encoded data removed]"
          },
          "metadata": {
            "needs_background": "light"
          }
        }
      ]
    },
    {
      "cell_type": "code",
      "source": [
        "onsumer_complaint_narrative'].values\n",
        "text_no_punc = [re.sub(r'[^\\w\\s]','',t) for t in text]\n",
        "text_cleaned = [t.strip().lower() for t in text_no_punc]\n",
        "\n",
        "def spacy_tokenizer(t):\n",
        "    token = [word for word in t.split() if word not in stop_words]\n",
        "    return token\n",
        "\n",
        "text_tokened = [spacy_tokenizer(t) for t in text_cleaned]\n",
        "text_processed = [','.join(t).replace(',',' ') for t in text_tokened]\n",
        "\n",
        "print(text_processed[0])"
      ],
      "metadata": {
        "colab": {
          "base_uri": "https://localhost:8080/",
          "height": 131
        },
        "id": "NVgb0kMvf4DX",
        "outputId": "da51e894-e89b-40b8-ee02-0ac17fb68e17"
      },
      "execution_count": null,
      "outputs": [
        {
          "output_type": "error",
          "ename": "SyntaxError",
          "evalue": "ignored",
          "traceback": [
            "\u001b[0;36m  File \u001b[0;32m\"<ipython-input-30-be4a7cc75d2c>\"\u001b[0;36m, line \u001b[0;32m1\u001b[0m\n\u001b[0;31m    onsumer_complaint_narrative'].values\u001b[0m\n\u001b[0m                                        ^\u001b[0m\n\u001b[0;31mSyntaxError\u001b[0m\u001b[0;31m:\u001b[0m EOL while scanning string literal\n"
          ]
        }
      ]
    },
    {
      "cell_type": "code",
      "source": [
        "from sklearn.model_selection import train_test_split\n",
        "from sklearn.feature_extraction.text import TfidfVectorizer\n",
        "from sklearn.preprocessing import LabelEncoder\n",
        "\n",
        "le = LabelEncoder()\n",
        "target_vars = data['product'].values\n",
        "le.fit(target_vars)\n",
        "y = le.transform(target_vars)\n",
        "\n",
        "X_train, X_test, y_train, y_test = train_test_split(text_processed, y, test_size = 0.3, random_state=42)\n",
        "\n",
        "TV = TfidfVectorizer(analyzer='word', token_pattern=r'\\w{1,}', max_features=5000)\n",
        "TV.fit(text_processed)\n",
        "\n",
        "X_train_TV = TV.transform(X_train)\n",
        "X_test_TV = TV.transform(X_test)"
      ],
      "metadata": {
        "id": "e8epyBijf4SU"
      },
      "execution_count": null,
      "outputs": []
    },
    {
      "cell_type": "code",
      "source": [
        "import xgboost as xgb\n",
        "from sklearn.model_selection import GridSearchCV\n",
        "from sklearn.metrics import accuracy_score\n",
        "\n",
        "xg_clas = xgb.XGBClassifier(colsample_bytree=0.3, learning_rate= 0.05, max_depth= 6, n_estimators= 500)\n",
        "xg_clas.fit(X_train_TV, y_train)\n",
        "y_pred_xg = xg_clas.predict(X_test_TV)\n",
        "\n",
        "print('Accuracy Score XGBoost:',accuracy_score(y_test, y_pred_xg))\n",
        "print(pd.crosstab(y_test, y_pred_xg, rownames = ['Actual'], colnames = ['Predicted']))"
      ],
      "metadata": {
        "id": "v2n-KksQf_tP"
      },
      "execution_count": null,
      "outputs": []
    },
    {
      "cell_type": "code",
      "source": [
        ""
      ],
      "metadata": {
        "id": "Rz5yXGybgD2a"
      },
      "execution_count": null,
      "outputs": []
    }
  ]
}